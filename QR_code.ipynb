{
 "cells": [
  {
   "cell_type": "markdown",
   "id": "4828648a",
   "metadata": {},
   "source": [
    "# QR(Quick Response) code Generator"
   ]
  },
  {
   "cell_type": "raw",
   "id": "7a6d5887",
   "metadata": {},
   "source": [
    "Understanding the QR Code\n",
    "QR code is a machine-readable barcode designed in two-dimensional pixelated form.\n",
    "The QR code can be used to store a range of data.\n",
    "QR in QR code is abbreviated for Quick Response.\n",
    "QR code was invented in the year 1994 by Masahiro Hara, a Japanese engineer from Automobile Manufacturer Denso Wave, in order to track the movement of car parts.\n",
    "The popularity of the QR code has increased in the later 2010s with improvement in optical proficiencies of Mobile Phones and their extensive acceptance.\n",
    "At the moment, QR codes are being utilized for a wide range of applications such as making online payments, checking hotel menus, sharing Wi-Fi passwords, obtaining cost and other information of products, and a lot more.\n"
   ]
  },
  {
   "cell_type": "markdown",
   "id": "144d64b1",
   "metadata": {},
   "source": [
    "# Module for QR code"
   ]
  },
  {
   "cell_type": "code",
   "execution_count": 1,
   "id": "edeb9720",
   "metadata": {},
   "outputs": [
    {
     "data": {
      "text/plain": [
       "['ERROR_CORRECT_H',\n",
       " 'ERROR_CORRECT_L',\n",
       " 'ERROR_CORRECT_M',\n",
       " 'ERROR_CORRECT_Q',\n",
       " 'LUT',\n",
       " 'QRCode',\n",
       " '__builtins__',\n",
       " '__cached__',\n",
       " '__doc__',\n",
       " '__file__',\n",
       " '__loader__',\n",
       " '__name__',\n",
       " '__package__',\n",
       " '__path__',\n",
       " '__spec__',\n",
       " 'base',\n",
       " 'constants',\n",
       " 'exceptions',\n",
       " 'image',\n",
       " 'main',\n",
       " 'make',\n",
       " 'run_example',\n",
       " 'util']"
      ]
     },
     "execution_count": 1,
     "metadata": {},
     "output_type": "execute_result"
    }
   ],
   "source": [
    "import qrcode\n",
    "dir(qrcode)"
   ]
  },
  {
   "cell_type": "markdown",
   "id": "dbeb9867",
   "metadata": {},
   "source": [
    "# Simple QR code for \n",
    "#Wikipedia "
   ]
  },
  {
   "cell_type": "code",
   "execution_count": 2,
   "id": "de1a21a2",
   "metadata": {},
   "outputs": [
    {
     "data": {
      "image/png": "[encoded data removed]",
      "text/plain": [
       "<qrcode.image.pil.PilImage at 0x20bb6cb7880>"
      ]
     },
     "execution_count": 2,
     "metadata": {},
     "output_type": "execute_result"
    }
   ],
   "source": [
    "import qrcode\n",
    "url=qrcode.make(\"https://en.wikipedia.org/wiki/Main_Page\")\n",
    "# will print the QR code for the above URL\n",
    "url"
   ]
  },
  {
   "cell_type": "code",
   "execution_count": 3,
   "id": "d684d1b4",
   "metadata": {},
   "outputs": [],
   "source": [
    "#Saving the Qr code as .jpg format\n",
    "\n",
    "url.save(\"w_qr.jpg\")"
   ]
  },
  {
   "cell_type": "markdown",
   "id": "b06f7358",
   "metadata": {},
   "source": [
    "# parameters  availabel in Qrcode module"
   ]
  },
  {
   "cell_type": "raw",
   "id": "b0f5efb2",
   "metadata": {},
   "source": [
    "# 1- version -controls the size of the 'QRCODE'..1-smallest and 40 -largest\n",
    "\n",
    "2-error_correction-controls the error correction \n",
    "    ERROR_CORRECT_L: up to 7%\n",
    "    ERROR_CORRECT_M: up to 15%\n",
    "    ERROR_CORRECT_Q: up to 25%\n",
    "    ERROR_CORRECT_H: up to 30%\n",
    "        \n",
    "3-box_size- controls no of pixel in each box \n",
    "\n",
    "4-border-thickness of the borde(default is 4)\n",
    "\n",
    "#functions in QRCODE module\n",
    "\n",
    "1-add data -to pass content for the QR code \n",
    "\n",
    "2-make- to set the version of QR code\n",
    "    If you are not sure about which version of QR code to use, the version can be set automatically by :\n",
    "    a. setting version parameter to None and\n",
    "    b. seting fit parameter of make to True.\n",
    "    \n",
    "3-make image -This function generates the QR code. It can also be used to set the fill color and \n",
    "              background color of the QR code using fill_color and back_color arguments."
   ]
  },
  {
   "cell_type": "code",
   "execution_count": 4,
   "id": "b8f2637f",
   "metadata": {},
   "outputs": [
    {
     "data": {
      "image/png": "[encoded data removed]",
      "text/plain": [
       "<qrcode.image.pil.PilImage at 0x20bb6ebc7f0>"
      ]
     },
     "execution_count": 4,
     "metadata": {},
     "output_type": "execute_result"
    }
   ],
   "source": [
    "qr = qrcode.QRCode(\n",
    "    version=1,\n",
    "    error_correction=qrcode.constants.ERROR_CORRECT_L,\n",
    "    box_size=10,\n",
    "    border=4,\n",
    ")\n",
    "qr.add_data(\"https://en.wikipedia.org/wiki/Main_Page\")\n",
    "qr.make(fit=True)\n",
    "img = qr.make_image(fill_color=\"blue\", back_color=\"white\")\n",
    "img\n"
   ]
  },
  {
   "cell_type": "code",
   "execution_count": 5,
   "id": "de5b0167",
   "metadata": {},
   "outputs": [],
   "source": [
    "img.save(\"wiki.png\")"
   ]
  },
  {
   "cell_type": "code",
   "execution_count": 6,
   "id": "ec98bb44",
   "metadata": {},
   "outputs": [
    {
     "data": {
      "image/png": "[encoded data removed]",
      "text/plain": [
       "<qrcode.image.pil.PilImage at 0x20bb6ebc820>"
      ]
     },
     "execution_count": 6,
     "metadata": {},
     "output_type": "execute_result"
    }
   ],
   "source": [
    "qr = qrcode.QRCode(\n",
    "    version=1,\n",
    "    error_correction=qrcode.constants.ERROR_CORRECT_M,\n",
    "    box_size=10,\n",
    "    border=4,\n",
    ")\n",
    "qr.add_data(\"https://mode.com/sql-tutorial/sql-data-types/\")\n",
    "qr.make(fit=True)\n",
    "img1 = qr.make_image(fill_color=\"green\", back_color=\"white\")\n",
    "img1"
   ]
  },
  {
   "cell_type": "code",
   "execution_count": 7,
   "id": "87f88399",
   "metadata": {},
   "outputs": [],
   "source": [
    "img1.save(\"mode.jpeg\")"
   ]
  },
  {
   "cell_type": "code",
   "execution_count": 8,
   "id": "cf55e48e",
   "metadata": {},
   "outputs": [
    {
     "data": {
      "image/png": "[encoded data removed]",
      "text/plain": [
       "<qrcode.image.pil.PilImage at 0x20bb6cb0760>"
      ]
     },
     "execution_count": 8,
     "metadata": {},
     "output_type": "execute_result"
    }
   ],
   "source": [
    "qr = qrcode.QRCode(\n",
    "    version=1,\n",
    "    error_correction=qrcode.constants.ERROR_CORRECT_Q,\n",
    "    box_size=10,\n",
    "    border=4,\n",
    ")\n",
    "qr.add_data(\"https://github.com/Satyendra0207\")\n",
    "qr.make(fit=True)\n",
    "img2 = qr.make_image(fill_color=\"pink\", back_color=\"green\")\n",
    "img2"
   ]
  },
  {
   "cell_type": "code",
   "execution_count": 9,
   "id": "0bc96f3b",
   "metadata": {},
   "outputs": [],
   "source": [
    "img2.save(\"git.jpg\")"
   ]
  },
  {
   "cell_type": "markdown",
   "id": "1c04dc0c",
   "metadata": {},
   "source": [
    "# Reading of the QR code using cv2 module"
   ]
  },
  {
   "cell_type": "code",
   "execution_count": 10,
   "id": "50e03428",
   "metadata": {},
   "outputs": [
    {
     "name": "stdout",
     "output_type": "stream",
     "text": [
      "https://en.wikipedia.org/wiki/Main_Page\n"
     ]
    }
   ],
   "source": [
    "import cv2\n",
    "img=cv2.imread(\"w_qr.jpg\")\n",
    "det=cv2.QRCodeDetector()\n",
    "val, pts, st_code=det.detectAndDecode(img)\n",
    "print(val)"
   ]
  },
  {
   "cell_type": "code",
   "execution_count": 11,
   "id": "bacdb97e",
   "metadata": {},
   "outputs": [
    {
     "name": "stdout",
     "output_type": "stream",
     "text": [
      "https://en.wikipedia.org/wiki/Main_Page\n"
     ]
    }
   ],
   "source": [
    "img=cv2.imread(\"wiki.png\")\n",
    "det=cv2.QRCodeDetector()\n",
    "val, pts, st_code=det.detectAndDecode(img)\n",
    "print(val)"
   ]
  },
  {
   "cell_type": "code",
   "execution_count": 12,
   "id": "2942a144",
   "metadata": {},
   "outputs": [
    {
     "name": "stdout",
     "output_type": "stream",
     "text": [
      "https://mode.com/sql-tutorial/sql-data-types/\n"
     ]
    }
   ],
   "source": [
    "img=cv2.imread(\"mode.jpeg\")\n",
    "det=cv2.QRCodeDetector()\n",
    "val, pts, st_code=det.detectAndDecode(img)\n",
    "print(val)"
   ]
  },
  {
   "cell_type": "code",
   "execution_count": 13,
   "id": "6ddd9876",
   "metadata": {},
   "outputs": [
    {
     "name": "stdout",
     "output_type": "stream",
     "text": [
      "\n"
     ]
    }
   ],
   "source": [
    "img=cv2.imread(\"git.jpg\")\n",
    "det=cv2.QRCodeDetector()\n",
    "val, pts, st_code=det.detectAndDecode(img)\n",
    "print(val)"
   ]
  }
 ],
 "metadata": {
  "kernelspec": {
   "display_name": "Python 3",
   "language": "python",
   "name": "python3"
  },
  "language_info": {
   "codemirror_mode": {
    "name": "ipython",
    "version": 3
   },
   "file_extension": ".py",
   "mimetype": "text/x-python",
   "name": "python",
   "nbconvert_exporter": "python",
   "pygments_lexer": "ipython3",
   "version": "3.8.8"
  }
 },
 "nbformat": 4,
 "nbformat_minor": 5
}
